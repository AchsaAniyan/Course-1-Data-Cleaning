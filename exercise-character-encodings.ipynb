{
 "cells": [
  {
   "cell_type": "markdown",
   "id": "1ee900fe",
   "metadata": {
    "papermill": {
     "duration": 0.006842,
     "end_time": "2023-12-01T16:11:41.306143",
     "exception": false,
     "start_time": "2023-12-01T16:11:41.299301",
     "status": "completed"
    },
    "tags": []
   },
   "source": [
    "**This notebook is an exercise in the [Data Cleaning](https://www.kaggle.com/learn/data-cleaning) course.  You can reference the tutorial at [this link](https://www.kaggle.com/alexisbcook/character-encodings).**\n",
    "\n",
    "---\n"
   ]
  },
  {
   "cell_type": "markdown",
   "id": "d18b3cfb",
   "metadata": {
    "papermill": {
     "duration": 0.006085,
     "end_time": "2023-12-01T16:11:41.321133",
     "exception": false,
     "start_time": "2023-12-01T16:11:41.315048",
     "status": "completed"
    },
    "tags": []
   },
   "source": [
    "In this exercise, you'll apply what you learned in the **Character encodings** tutorial.\n",
    "\n",
    "# Setup\n",
    "\n",
    "The questions below will give you feedback on your work. Run the following cell to set up the feedback system."
   ]
  },
  {
   "cell_type": "code",
   "execution_count": 1,
   "id": "ec280b1a",
   "metadata": {
    "execution": {
     "iopub.execute_input": "2023-12-01T16:11:41.336226Z",
     "iopub.status.busy": "2023-12-01T16:11:41.335769Z",
     "iopub.status.idle": "2023-12-01T16:11:41.891531Z",
     "shell.execute_reply": "2023-12-01T16:11:41.889776Z"
    },
    "papermill": {
     "duration": 0.566833,
     "end_time": "2023-12-01T16:11:41.894435",
     "exception": false,
     "start_time": "2023-12-01T16:11:41.327602",
     "status": "completed"
    },
    "tags": []
   },
   "outputs": [
    {
     "name": "stdout",
     "output_type": "stream",
     "text": [
      "Setup Complete\n"
     ]
    }
   ],
   "source": [
    "from learntools.core import binder\n",
    "binder.bind(globals())\n",
    "from learntools.data_cleaning.ex4 import *\n",
    "print(\"Setup Complete\")"
   ]
  },
  {
   "cell_type": "markdown",
   "id": "15dae45d",
   "metadata": {
    "papermill": {
     "duration": 0.006126,
     "end_time": "2023-12-01T16:11:41.907193",
     "exception": false,
     "start_time": "2023-12-01T16:11:41.901067",
     "status": "completed"
    },
    "tags": []
   },
   "source": [
    "# Get our environment set up\n",
    "\n",
    "The first thing we'll need to do is load in the libraries we'll be using."
   ]
  },
  {
   "cell_type": "code",
   "execution_count": 2,
   "id": "bfe2be9c",
   "metadata": {
    "execution": {
     "iopub.execute_input": "2023-12-01T16:11:41.922813Z",
     "iopub.status.busy": "2023-12-01T16:11:41.922396Z",
     "iopub.status.idle": "2023-12-01T16:11:41.927597Z",
     "shell.execute_reply": "2023-12-01T16:11:41.926722Z"
    },
    "papermill": {
     "duration": 0.015699,
     "end_time": "2023-12-01T16:11:41.929960",
     "exception": false,
     "start_time": "2023-12-01T16:11:41.914261",
     "status": "completed"
    },
    "tags": []
   },
   "outputs": [],
   "source": [
    "# modules we'll use\n",
    "import pandas as pd\n",
    "import numpy as np\n",
    "\n",
    "# helpful character encoding module\n",
    "import charset_normalizer\n",
    "\n",
    "# set seed for reproducibility\n",
    "np.random.seed(0)"
   ]
  },
  {
   "cell_type": "markdown",
   "id": "bbb2ccf8",
   "metadata": {
    "papermill": {
     "duration": 0.00611,
     "end_time": "2023-12-01T16:11:41.942564",
     "exception": false,
     "start_time": "2023-12-01T16:11:41.936454",
     "status": "completed"
    },
    "tags": []
   },
   "source": [
    "# 1) What are encodings?\n",
    "\n",
    "You're working with a dataset composed of bytes.  Run the code cell below to print a sample entry."
   ]
  },
  {
   "cell_type": "code",
   "execution_count": 3,
   "id": "d1734d6a",
   "metadata": {
    "execution": {
     "iopub.execute_input": "2023-12-01T16:11:41.957678Z",
     "iopub.status.busy": "2023-12-01T16:11:41.957009Z",
     "iopub.status.idle": "2023-12-01T16:11:41.962785Z",
     "shell.execute_reply": "2023-12-01T16:11:41.961552Z"
    },
    "papermill": {
     "duration": 0.016697,
     "end_time": "2023-12-01T16:11:41.965653",
     "exception": false,
     "start_time": "2023-12-01T16:11:41.948956",
     "status": "completed"
    },
    "tags": []
   },
   "outputs": [
    {
     "name": "stdout",
     "output_type": "stream",
     "text": [
      "b'\\xa7A\\xa6n'\n",
      "data type: <class 'bytes'>\n"
     ]
    }
   ],
   "source": [
    "sample_entry = b'\\xa7A\\xa6n'\n",
    "print(sample_entry)\n",
    "print('data type:', type(sample_entry))"
   ]
  },
  {
   "cell_type": "markdown",
   "id": "9014dee8",
   "metadata": {
    "papermill": {
     "duration": 0.006243,
     "end_time": "2023-12-01T16:11:41.978540",
     "exception": false,
     "start_time": "2023-12-01T16:11:41.972297",
     "status": "completed"
    },
    "tags": []
   },
   "source": [
    "You notice that it doesn't use the standard UTF-8 encoding. \n",
    "\n",
    "Use the next code cell to create a variable `new_entry` that changes the encoding from `\"big5-tw\"` to `\"utf-8\"`.  `new_entry` should have the bytes datatype."
   ]
  },
  {
   "cell_type": "code",
   "execution_count": 4,
   "id": "16ab2f31",
   "metadata": {
    "execution": {
     "iopub.execute_input": "2023-12-01T16:11:41.993872Z",
     "iopub.status.busy": "2023-12-01T16:11:41.993139Z",
     "iopub.status.idle": "2023-12-01T16:11:42.003106Z",
     "shell.execute_reply": "2023-12-01T16:11:42.001775Z"
    },
    "papermill": {
     "duration": 0.020938,
     "end_time": "2023-12-01T16:11:42.006014",
     "exception": false,
     "start_time": "2023-12-01T16:11:41.985076",
     "status": "completed"
    },
    "tags": []
   },
   "outputs": [
    {
     "data": {
      "application/javascript": [
       "parent.postMessage({\"jupyterEvent\": \"custom.exercise_interaction\", \"data\": {\"outcomeType\": 1, \"valueTowardsCompletion\": 0.3333333333333333, \"interactionType\": 1, \"questionType\": 1, \"questionId\": \"1_EncodingsIntro\", \"learnToolsVersion\": \"0.3.4\", \"failureMessage\": \"\", \"exceptionClass\": \"\", \"trace\": \"\"}}, \"*\")"
      ],
      "text/plain": [
       "<IPython.core.display.Javascript object>"
      ]
     },
     "metadata": {},
     "output_type": "display_data"
    },
    {
     "data": {
      "text/markdown": [
       "<span style=\"color:#33cc33\">Correct</span>"
      ],
      "text/plain": [
       "Correct"
      ]
     },
     "metadata": {},
     "output_type": "display_data"
    }
   ],
   "source": [
    "before = sample_entry.decode(\"big5-tw\")\n",
    "new_entry = before.encode()\n",
    "\n",
    "# Check your answer\n",
    "q1.check()"
   ]
  },
  {
   "cell_type": "code",
   "execution_count": 5,
   "id": "9c98a1c8",
   "metadata": {
    "execution": {
     "iopub.execute_input": "2023-12-01T16:11:42.022148Z",
     "iopub.status.busy": "2023-12-01T16:11:42.021688Z",
     "iopub.status.idle": "2023-12-01T16:11:42.026843Z",
     "shell.execute_reply": "2023-12-01T16:11:42.025585Z"
    },
    "papermill": {
     "duration": 0.01605,
     "end_time": "2023-12-01T16:11:42.029363",
     "exception": false,
     "start_time": "2023-12-01T16:11:42.013313",
     "status": "completed"
    },
    "tags": []
   },
   "outputs": [],
   "source": [
    "# Lines below will give you a hint or solution code\n",
    "#q1.hint()\n",
    "#q1.solution()"
   ]
  },
  {
   "cell_type": "markdown",
   "id": "bc7025c4",
   "metadata": {
    "papermill": {
     "duration": 0.006684,
     "end_time": "2023-12-01T16:11:42.043388",
     "exception": false,
     "start_time": "2023-12-01T16:11:42.036704",
     "status": "completed"
    },
    "tags": []
   },
   "source": [
    "# 2) Reading in files with encoding problems\n",
    "\n",
    "Use the code cell below to read in this file at path `\"../input/fatal-police-shootings-in-the-us/PoliceKillingsUS.csv\"`.  \n",
    "\n",
    "Figure out what the correct encoding should be and read in the file to a DataFrame `police_killings`."
   ]
  },
  {
   "cell_type": "code",
   "execution_count": 6,
   "id": "9a09b7a7",
   "metadata": {
    "execution": {
     "iopub.execute_input": "2023-12-01T16:11:42.060308Z",
     "iopub.status.busy": "2023-12-01T16:11:42.059910Z",
     "iopub.status.idle": "2023-12-01T16:11:42.091346Z",
     "shell.execute_reply": "2023-12-01T16:11:42.090112Z"
    },
    "papermill": {
     "duration": 0.04301,
     "end_time": "2023-12-01T16:11:42.093961",
     "exception": false,
     "start_time": "2023-12-01T16:11:42.050951",
     "status": "completed"
    },
    "tags": []
   },
   "outputs": [
    {
     "data": {
      "application/javascript": [
       "parent.postMessage({\"jupyterEvent\": \"custom.exercise_interaction\", \"data\": {\"outcomeType\": 1, \"valueTowardsCompletion\": 0.3333333333333333, \"interactionType\": 1, \"questionType\": 1, \"questionId\": \"2_ReadIn\", \"learnToolsVersion\": \"0.3.4\", \"failureMessage\": \"\", \"exceptionClass\": \"\", \"trace\": \"\"}}, \"*\")"
      ],
      "text/plain": [
       "<IPython.core.display.Javascript object>"
      ]
     },
     "metadata": {},
     "output_type": "display_data"
    },
    {
     "data": {
      "text/markdown": [
       "<span style=\"color:#33cc33\">Correct</span>"
      ],
      "text/plain": [
       "Correct"
      ]
     },
     "metadata": {},
     "output_type": "display_data"
    }
   ],
   "source": [
    "# TODO: Load in the DataFrame correctly.\n",
    "police_killings = pd.read_csv(\"../input/fatal-police-shootings-in-the-us/PoliceKillingsUS.csv\", encoding='Windows-1252')\n",
    "\n",
    "# Check your answer\n",
    "q2.check()"
   ]
  },
  {
   "cell_type": "markdown",
   "id": "49d9395f",
   "metadata": {
    "papermill": {
     "duration": 0.007074,
     "end_time": "2023-12-01T16:11:42.108395",
     "exception": false,
     "start_time": "2023-12-01T16:11:42.101321",
     "status": "completed"
    },
    "tags": []
   },
   "source": [
    "Feel free to use any additional code cells for supplemental work.  To get credit for finishing this question, you'll need to run `q2.check()` and get a result of **Correct**."
   ]
  },
  {
   "cell_type": "code",
   "execution_count": 7,
   "id": "d0ca9a3a",
   "metadata": {
    "execution": {
     "iopub.execute_input": "2023-12-01T16:11:42.126184Z",
     "iopub.status.busy": "2023-12-01T16:11:42.125450Z",
     "iopub.status.idle": "2023-12-01T16:11:42.130394Z",
     "shell.execute_reply": "2023-12-01T16:11:42.129527Z"
    },
    "papermill": {
     "duration": 0.016606,
     "end_time": "2023-12-01T16:11:42.132892",
     "exception": false,
     "start_time": "2023-12-01T16:11:42.116286",
     "status": "completed"
    },
    "tags": []
   },
   "outputs": [],
   "source": [
    "# (Optional) Use this code cell for any additional work."
   ]
  },
  {
   "cell_type": "code",
   "execution_count": 8,
   "id": "ba7970ed",
   "metadata": {
    "execution": {
     "iopub.execute_input": "2023-12-01T16:11:42.149803Z",
     "iopub.status.busy": "2023-12-01T16:11:42.149374Z",
     "iopub.status.idle": "2023-12-01T16:11:42.153821Z",
     "shell.execute_reply": "2023-12-01T16:11:42.152616Z"
    },
    "papermill": {
     "duration": 0.016076,
     "end_time": "2023-12-01T16:11:42.156286",
     "exception": false,
     "start_time": "2023-12-01T16:11:42.140210",
     "status": "completed"
    },
    "tags": []
   },
   "outputs": [],
   "source": [
    "# Lines below will give you a hint or solution code\n",
    "#q2.hint()\n",
    "# q2.solution()"
   ]
  },
  {
   "cell_type": "markdown",
   "id": "0ece8c49",
   "metadata": {
    "papermill": {
     "duration": 0.007077,
     "end_time": "2023-12-01T16:11:42.170851",
     "exception": false,
     "start_time": "2023-12-01T16:11:42.163774",
     "status": "completed"
    },
    "tags": []
   },
   "source": [
    "# 3) Saving your files with UTF-8 encoding\n",
    "\n",
    "Save a version of the police killings dataset to CSV with UTF-8 encoding.  Your answer will be marked correct after saving this file.  \n",
    "\n",
    "Note: When using the `to_csv()` method, supply only the name of the file (e.g., `\"my_file.csv\"`).  This saves the file at the filepath `\"/kaggle/working/my_file.csv\"`."
   ]
  },
  {
   "cell_type": "code",
   "execution_count": 9,
   "id": "8d17321a",
   "metadata": {
    "execution": {
     "iopub.execute_input": "2023-12-01T16:11:42.187478Z",
     "iopub.status.busy": "2023-12-01T16:11:42.187046Z",
     "iopub.status.idle": "2023-12-01T16:11:42.244960Z",
     "shell.execute_reply": "2023-12-01T16:11:42.243715Z"
    },
    "papermill": {
     "duration": 0.069523,
     "end_time": "2023-12-01T16:11:42.247741",
     "exception": false,
     "start_time": "2023-12-01T16:11:42.178218",
     "status": "completed"
    },
    "tags": []
   },
   "outputs": [
    {
     "data": {
      "application/javascript": [
       "parent.postMessage({\"jupyterEvent\": \"custom.exercise_interaction\", \"data\": {\"outcomeType\": 1, \"valueTowardsCompletion\": 0.3333333333333333, \"interactionType\": 1, \"questionType\": 2, \"questionId\": \"3_SaveCSV\", \"learnToolsVersion\": \"0.3.4\", \"failureMessage\": \"\", \"exceptionClass\": \"\", \"trace\": \"\"}}, \"*\")"
      ],
      "text/plain": [
       "<IPython.core.display.Javascript object>"
      ]
     },
     "metadata": {},
     "output_type": "display_data"
    },
    {
     "data": {
      "text/markdown": [
       "<span style=\"color:#33cc33\">Correct</span>"
      ],
      "text/plain": [
       "Correct"
      ]
     },
     "metadata": {},
     "output_type": "display_data"
    }
   ],
   "source": [
    "# TODO: Save the police killings dataset to CSV\n",
    "police_killings.to_csv(\"my_file.csv\")\n",
    "\n",
    "# Check your answer\n",
    "q3.check()"
   ]
  },
  {
   "cell_type": "code",
   "execution_count": 10,
   "id": "6120dfc0",
   "metadata": {
    "execution": {
     "iopub.execute_input": "2023-12-01T16:11:42.266614Z",
     "iopub.status.busy": "2023-12-01T16:11:42.266167Z",
     "iopub.status.idle": "2023-12-01T16:11:42.271701Z",
     "shell.execute_reply": "2023-12-01T16:11:42.270441Z"
    },
    "papermill": {
     "duration": 0.01848,
     "end_time": "2023-12-01T16:11:42.274346",
     "exception": false,
     "start_time": "2023-12-01T16:11:42.255866",
     "status": "completed"
    },
    "tags": []
   },
   "outputs": [],
   "source": [
    "# Lines below will give you a hint or solution code\n",
    "#q3.hint()# q3.solution()"
   ]
  },
  {
   "cell_type": "markdown",
   "id": "fc0c8e7a",
   "metadata": {
    "papermill": {
     "duration": 0.007865,
     "end_time": "2023-12-01T16:11:42.289862",
     "exception": false,
     "start_time": "2023-12-01T16:11:42.281997",
     "status": "completed"
    },
    "tags": []
   },
   "source": [
    "# (Optional) More practice\n",
    "\n",
    "Check out [this dataset of files in different character encodings](https://www.kaggle.com/rtatman/character-encoding-examples). Can you read in all the files with their original encodings and them save them out as UTF-8 files?\n",
    "\n",
    "If you have a file that's in UTF-8 but has just a couple of weird-looking characters in it, you can try out the [ftfy module](https://ftfy.readthedocs.io/en/latest/#) and see if it helps. \n",
    "\n",
    "# Keep going\n",
    "\n",
    "In the final lesson, learn how to [**clean up inconsistent text entries**](https://www.kaggle.com/alexisbcook/inconsistent-data-entry) in your dataset."
   ]
  },
  {
   "cell_type": "markdown",
   "id": "f9b9195c",
   "metadata": {
    "papermill": {
     "duration": 0.007349,
     "end_time": "2023-12-01T16:11:42.304923",
     "exception": false,
     "start_time": "2023-12-01T16:11:42.297574",
     "status": "completed"
    },
    "tags": []
   },
   "source": [
    "---\n",
    "\n",
    "\n",
    "\n",
    "\n",
    "*Have questions or comments? Visit the [course discussion forum](https://www.kaggle.com/learn/data-cleaning/discussion) to chat with other learners.*"
   ]
  }
 ],
 "metadata": {
  "kaggle": {
   "accelerator": "none",
   "dataSources": [
    {
     "datasetId": 2647,
     "sourceId": 4395,
     "sourceType": "datasetVersion"
    }
   ],
   "isGpuEnabled": false,
   "isInternetEnabled": false,
   "language": "python",
   "sourceType": "notebook"
  },
  "kernelspec": {
   "display_name": "Python 3",
   "language": "python",
   "name": "python3"
  },
  "language_info": {
   "codemirror_mode": {
    "name": "ipython",
    "version": 3
   },
   "file_extension": ".py",
   "mimetype": "text/x-python",
   "name": "python",
   "nbconvert_exporter": "python",
   "pygments_lexer": "ipython3",
   "version": "3.10.12"
  },
  "papermill": {
   "default_parameters": {},
   "duration": 5.195011,
   "end_time": "2023-12-01T16:11:42.836867",
   "environment_variables": {},
   "exception": null,
   "input_path": "__notebook__.ipynb",
   "output_path": "__notebook__.ipynb",
   "parameters": {},
   "start_time": "2023-12-01T16:11:37.641856",
   "version": "2.4.0"
  }
 },
 "nbformat": 4,
 "nbformat_minor": 5
}
